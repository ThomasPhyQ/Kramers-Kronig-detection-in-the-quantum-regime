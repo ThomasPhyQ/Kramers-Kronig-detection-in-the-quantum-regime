{
 "cells": [
  {
   "cell_type": "code",
   "execution_count": null,
   "id": "ba8d5e7d-fcd4-4855-9d37-3dd5dbf4c41a",
   "metadata": {},
   "outputs": [],
   "source": [
    "import numpy as np\n",
    "import matplotlib.pyplot as plt\n",
    "import scipy as sp"
   ]
  },
  {
   "cell_type": "code",
   "execution_count": null,
   "id": "0f17c92e-7665-49a7-ab66-75aeedc2b8e7",
   "metadata": {},
   "outputs": [],
   "source": [
    "sampling_rate = 1e9\n",
    "\n",
    "#Computation of the number of time sample to simulate for a specific photon bandwidth\n",
    "single_photon_bandwidth = 4e7\n",
    "reference_pulse_bandwidth = 1e6\n",
    "\n",
    "filtered_photon_duration = 5/reference_pulse_bandwidth\n",
    "\n",
    "n_sample = int(filtered_photon_duration*sampling_rate)\n",
    "if n_sample%2 == 0:\n",
    "    n_sample+=1"
   ]
  },
  {
   "cell_type": "code",
   "execution_count": null,
   "id": "18d1ac51-3e5a-4e23-98cf-19bb20cb6bac",
   "metadata": {},
   "outputs": [],
   "source": [
    "def make_time_vector(sampling_rate,n_sample):\n",
    "    return np.linspace(-n_sample/sampling_rate/2,n_sample/sampling_rate/2,n_sample)"
   ]
  },
  {
   "cell_type": "code",
   "execution_count": null,
   "id": "c5d8388a-5736-487a-8676-0c2fc555d742",
   "metadata": {},
   "outputs": [],
   "source": [
    "#Generation of the single photon wavefunction to measure\n",
    "time_vector = make_time_vector(sampling_rate,n_sample)\n",
    "single_photon_wavefunction = np.exp(-time_vector**2*single_photon_bandwidth**2/2)\n",
    "single_photon_wavefunction = single_photon_wavefunction/np.linalg.norm(single_photon_wavefunction)"
   ]
  },
  {
   "cell_type": "code",
   "execution_count": null,
   "id": "b82075b1-8f1c-40c6-bb87-d8b41bb88cb9",
   "metadata": {},
   "outputs": [],
   "source": [
    "plt.rcParams.update({\n",
    "    \"text.usetex\":True,\n",
    "    \"font.family\":\"rmfamily\",\n",
    "    \"font.size\":15,\n",
    "})\n",
    "\n",
    "plt.plot(time_vector,np.abs(single_photon_wavefunction)**2)\n",
    "plt.xlabel(\"Time\",fontfamily=\"rmfamily\")\n",
    "plt.ylabel(\"Time-of-arrival probability\")\n",
    "plt.xlim(-1e-7,1e-7)"
   ]
  },
  {
   "cell_type": "code",
   "execution_count": null,
   "id": "539a426d-7244-434d-a8a0-bdb888e2cfc4",
   "metadata": {},
   "outputs": [],
   "source": [
    "#Simulation of the EOM\n",
    "EOM_loss_dB = 7\n",
    "EOM_loss_amp = 10**(-EOM_loss_dB/20)\n",
    "frequency_offset = sampling_rate/int(sampling_rate/(2*single_photon_bandwidth))\n",
    "EOM_freq = sampling_rate/int(sampling_rate/frequency_offset)\n",
    "EOM_single_photon = EOM_loss_amp*single_photon_wavefunction*np.exp(1j*np.sin(2*np.pi*time_vector*EOM_freq))"
   ]
  },
  {
   "cell_type": "code",
   "execution_count": null,
   "id": "518d2d37-7e8b-4f68-b272-18cccdc91a91",
   "metadata": {},
   "outputs": [],
   "source": [
    "def make_freq_vector(sampling_rate,n_sample):\n",
    "    return np.linspace(-sampling_rate/2,sampling_rate/2,n_sample)"
   ]
  },
  {
   "cell_type": "code",
   "execution_count": null,
   "id": "23c4ecaf-691d-4027-a023-4d82f833e154",
   "metadata": {},
   "outputs": [],
   "source": [
    "freq_vector=make_freq_vector(sampling_rate,n_sample)"
   ]
  },
  {
   "cell_type": "code",
   "execution_count": null,
   "id": "38dfeff3-105b-47a2-b013-a59431267b49",
   "metadata": {},
   "outputs": [],
   "source": [
    "plt.rcParams.update({\n",
    "    \"text.usetex\":True,\n",
    "    \"font.family\":\"rmfamily\",\n",
    "    \"font.size\":15,\n",
    "})\n",
    "\n",
    "plt.plot(freq_vector,np.abs(np.fft.fftshift(np.fft.fft(EOM_single_photon)))**2)\n",
    "plt.xlabel(\"Frequency\",fontfamily=\"rmfamily\")\n",
    "plt.ylabel(\"Spectrum\")"
   ]
  },
  {
   "cell_type": "code",
   "execution_count": null,
   "id": "d52ef6bc-c006-4984-9bf0-37573c51ba7e",
   "metadata": {},
   "outputs": [],
   "source": [
    "#Simulation of the first filter isolating only the peak 0 and 1\n",
    "filter_1_min_freq = -3/2*single_photon_bandwidth/2\n",
    "filter_1_max_freq = frequency_offset + 3/2*single_photon_bandwidth/2\n",
    "\n",
    "filter_1_min_bin = int(filter_1_min_freq/sampling_rate*n_sample)+n_sample\n",
    "filter_1_max_bin = int(filter_1_max_freq/sampling_rate*n_sample)\n",
    "\n",
    "freq_filter_1_single_photon = np.zeros(n_sample,dtype=complex)\n",
    "freq_filter_1_single_photon[filter_1_min_bin:n_sample] = np.fft.fft(EOM_single_photon)[filter_1_min_bin:n_sample]\n",
    "freq_filter_1_single_photon[0:filter_1_max_bin] = np.fft.fft(EOM_single_photon)[0:filter_1_max_bin]\n",
    "filter_1_single_photon = np.fft.ifft(freq_filter_1_single_photon)"
   ]
  },
  {
   "cell_type": "code",
   "execution_count": null,
   "id": "f3cd78ca-57b6-4dd6-bdb1-57ec388e0d63",
   "metadata": {},
   "outputs": [],
   "source": [
    "plt.rcParams.update({\n",
    "    \"text.usetex\":True,\n",
    "    \"font.family\":\"rmfamily\",\n",
    "    \"font.size\":15,\n",
    "})\n",
    "\n",
    "plt.plot(freq_vector,np.abs(np.fft.fftshift(np.fft.fft(filter_1_single_photon)))**2)\n",
    "plt.xlabel(\"Frequency\",fontfamily=\"rmfamily\")\n",
    "plt.ylabel(\"Spectrum\")"
   ]
  },
  {
   "cell_type": "code",
   "execution_count": null,
   "id": "9a5febb9-2e7d-4655-b3df-64a80f477d99",
   "metadata": {},
   "outputs": [],
   "source": [
    "#Simulation of the second filter shaping the 0 component into a monochromatic contribution and attenuating the 1 component\n",
    "filter_2_ref_min_freq = -reference_pulse_bandwidth/2\n",
    "filter_2_ref_max_freq = reference_pulse_bandwidth/2\n",
    "\n",
    "filter_2_ref_min_bin = int(filter_2_ref_min_freq/sampling_rate*n_sample)+n_sample\n",
    "filter_2_ref_max_bin = int(filter_2_ref_max_freq/sampling_rate*n_sample)\n",
    "\n",
    "filter_2_min_freq = frequency_offset-3/2*single_photon_bandwidth/2\n",
    "filter_2_max_freq = frequency_offset+3/2*single_photon_bandwidth/2\n",
    "\n",
    "filter_2_min_bin = int(filter_2_min_freq/sampling_rate*n_sample)\n",
    "filter_2_max_bin = int(filter_2_max_freq/sampling_rate*n_sample)\n",
    "\n",
    "filter_2_att = 1/25\n",
    "\n",
    "freq_filter_2_single_photon = np.zeros(n_sample,dtype=complex)\n",
    "freq_filter_2_single_photon[filter_2_ref_min_bin:n_sample] = np.fft.fft(filter_1_single_photon)[filter_2_ref_min_bin:n_sample]\n",
    "freq_filter_2_single_photon[0:filter_2_ref_max_bin] = np.fft.fft(filter_1_single_photon)[0:filter_2_ref_max_bin]\n",
    "freq_filter_2_single_photon[filter_2_min_bin:filter_2_max_bin] = filter_2_att*np.fft.fft(filter_1_single_photon)[filter_2_min_bin:filter_2_max_bin]\n",
    "filter_2_single_photon = np.fft.ifft(freq_filter_2_single_photon)"
   ]
  },
  {
   "cell_type": "code",
   "execution_count": null,
   "id": "bb28b734-519f-402c-b2a9-d580cf407dcf",
   "metadata": {},
   "outputs": [],
   "source": [
    "plt.rcParams.update({\n",
    "    \"text.usetex\":True,\n",
    "    \"font.family\":\"rmfamily\",\n",
    "    \"font.size\":15,\n",
    "})\n",
    "\n",
    "plt.semilogy(freq_vector,np.abs(np.fft.fftshift(np.fft.fft(filter_2_single_photon)))**2)\n",
    "plt.xlabel(\"Frequency\",fontfamily=\"rmfamily\")\n",
    "plt.ylabel(\"Spectrum (log scale)\")"
   ]
  },
  {
   "cell_type": "code",
   "execution_count": null,
   "id": "c017c385-d6c0-4550-8752-c4301c150c73",
   "metadata": {},
   "outputs": [],
   "source": [
    "#We truncate the time wavefunction to only keep the part when the monochromatic contribution is constant\n",
    "single_photon_duration = 5/single_photon_bandwidth\n",
    "\n",
    "n_sample_trunc = int(single_photon_duration*sampling_rate)\n",
    "if n_sample_trunc%2==0:\n",
    "    n_sample_trunc = n_sample_trunc+1\n",
    "\n",
    "filtered_single_photon_trunc = filter_2_single_photon[int(n_sample/2) - int(n_sample_trunc/2):int(n_sample/2)+int(n_sample_trunc/2)+1]\n",
    "\n",
    "single_photon_trunc = single_photon_wavefunction[int(n_sample/2) - int(n_sample_trunc/2):int(n_sample/2)+int(n_sample_trunc/2)+1]\n",
    "\n",
    "time_vector_trunc = make_time_vector(sampling_rate,n_sample_trunc)\n",
    "freq_vector_trunc = make_freq_vector(sampling_rate,n_sample_trunc)"
   ]
  },
  {
   "cell_type": "code",
   "execution_count": null,
   "id": "e1a452af-8de1-47ad-bc61-c1b6de8426cc",
   "metadata": {},
   "outputs": [],
   "source": [
    "#Characteristics of the single photon detector\n",
    "dark_count_rate = 1e1\n",
    "single_photon_detector_efficiency = 70/100\n",
    "jitter_time = 1e-10"
   ]
  },
  {
   "cell_type": "code",
   "execution_count": null,
   "id": "8e871b5c-b4b1-40b7-b585-3900191df5ee",
   "metadata": {},
   "outputs": [],
   "source": [
    "#Given a probability distribution return a index associated to a realization of the random variable\n",
    "def time_of_arrival_proba(probability_distribution):\n",
    "    n_sample = np.shape(probability_distribution)[0]\n",
    "    cumulative_function = np.cumsum(probability_distribution)\n",
    "    total_proba = np.sum(probability_distribution) #Consider the case here the probability sums to less than one i.e. in the case where the result can be lost\n",
    "    random_proba = np.random.rand()\n",
    "    if random_proba>total_proba:\n",
    "        return -1 #If the measurement is lost\n",
    "    random_index = n_sample-1\n",
    "    for index in range(n_sample):\n",
    "        if random_proba<cumulative_function[index]:\n",
    "            random_index=index\n",
    "            break\n",
    "    return random_index"
   ]
  },
  {
   "cell_type": "code",
   "execution_count": null,
   "id": "5c0f9cba-8b27-494e-bdb8-ce6544415095",
   "metadata": {},
   "outputs": [],
   "source": [
    "#Function that simulates a detection with a single photon detector\n",
    "def time_of_arrival_histogram(wavefunction, n_monte_carlo, dark_count_rate,sampling_rate,jitter_time):\n",
    "    n_sample = np.shape(wavefunction)[0]\n",
    "    exp_histogram = np.ones(n_sample) #initialize with one everywhere to have non zero probability for the application of the logarithm to be robust\n",
    "    probability_photon = sp.ndimage.gaussian_filter(np.abs(wavefunction)**2,sigma=jitter_time*sampling_rate) #Time-of-arrival probability distribution to approximate with the histogram\n",
    "    probability_dark_count = 1-np.exp(-dark_count_rate/sampling_rate) #Probability of recording a dark count at each time slot\n",
    "    for monte_carlo_index in range(n_monte_carlo):\n",
    "        dark_count_tab = np.random.binomial(1,probability_dark_count,n_sample) #precompute the slots containing a dark count\n",
    "        photon_index = time_of_arrival_proba(probability_photon) #Index of the time slot for the detection event\n",
    "        exp_histogram = exp_histogram+dark_count_tab\n",
    "        if photon_index>=0:\n",
    "            if dark_count_tab[photon_index]<1:\n",
    "                exp_histogram[photon_index] += 1\n",
    "    return exp_histogram "
   ]
  },
  {
   "cell_type": "code",
   "execution_count": null,
   "id": "e078324e-42c4-4466-83fc-151574e969da",
   "metadata": {},
   "outputs": [],
   "source": [
    "def hilbert_transform(x):\n",
    "    n_sample = np.shape(x)[0]\n",
    "    if n_sample%2 == 0:\n",
    "        error(\"Number of sample even\")\n",
    "        return\n",
    "    bin_0= int((n_sample-1)/2)\n",
    "    X = np.fft.fft(x)\n",
    "    X[bin_0] = 0\n",
    "    X[bin_0+1:n_sample] = - X[bin_0+1:n_sample]\n",
    "    return -1j*np.fft.ifft(X)"
   ]
  },
  {
   "cell_type": "code",
   "execution_count": null,
   "id": "25b7fe94-0f78-4aaa-b83b-c98a131d5003",
   "metadata": {},
   "outputs": [],
   "source": [
    "#Example for one scenario\n",
    "freq_exp_single_photon_shifted_trunc = np.zeros(n_sample_trunc,dtype=complex)\n",
    "exp_min_bin = int(filter_2_min_freq/sampling_rate*n_sample_trunc)\n",
    "exp_single_photon = np.zeros(n_sample,dtype=complex)\n",
    "#Estimation of the time-of-arrival distribution\n",
    "n_monte_carlo = 100000000\n",
    "exp_histogram = time_of_arrival_histogram(np.sqrt(single_photon_detector_efficiency)*filtered_single_photon_trunc,n_monte_carlo,dark_count_rate,sampling_rate,jitter_time)\n",
    "exp_probability = exp_histogram/np.sum(exp_histogram)\n",
    "\n",
    "#Kramers-Kronig detection DSP\n",
    "log_probability = np.log(exp_probability)\n",
    "exp_phase=np.real(hilbert_transform(log_probability/2))\n",
    "exp_filtered_single_photon_trunc = np.sqrt(exp_probability)*np.exp(1j*exp_phase)\n",
    "\n",
    "#Filtering to recover to original wavefunction\n",
    "freq_exp_single_photon_shifted_trunc[exp_min_bin:int((n_sample-1)/2)] = np.fft.fft(exp_filtered_single_photon_trunc)[exp_min_bin:int((n_sample-1)/2)]\n",
    "exp_single_photon_trunc = np.fft.ifft(freq_exp_single_photon_shifted_trunc)*np.exp(-1j*2*np.pi*frequency_offset*time_vector_trunc)\n",
    "exp_single_photon_trunc = exp_single_photon_trunc/np.linalg.norm(exp_single_photon_trunc)\n",
    "\n",
    "#Compute the fidelity\n",
    "exp_single_photon[int(n_sample/2)-int(n_sample_trunc/2):int(n_sample/2)+int(n_sample_trunc/2)+1] = exp_single_photon_trunc\n",
    "fidelity = np.abs(np.sum(np.multiply(np.conj(exp_single_photon),exp_single_photon)))**2"
   ]
  },
  {
   "cell_type": "code",
   "execution_count": null,
   "id": "7a7d53f4-946a-4d34-9cd8-7b56c9375276",
   "metadata": {},
   "outputs": [],
   "source": [
    "fidelity"
   ]
  },
  {
   "cell_type": "code",
   "execution_count": null,
   "id": "4d2455d1-d5ff-49b4-930e-e7f4373b523a",
   "metadata": {},
   "outputs": [],
   "source": [
    "#Setup the Monte Carlo experiment\n",
    "n_parameters = 1\n",
    "parameter_table = np.logspace(7,7,n_parameters) #Number of measurements to test\n",
    "\n",
    "fidelity_tab = np.zeros(n_parameters)"
   ]
  },
  {
   "cell_type": "code",
   "execution_count": null,
   "id": "c6e91717-c202-4566-82b6-eb5fa350177d",
   "metadata": {},
   "outputs": [],
   "source": [
    "#Put true to run the next cell\n",
    "run_simulation = True"
   ]
  },
  {
   "cell_type": "code",
   "execution_count": null,
   "id": "c711f8ff-e797-46e0-ad73-d03b40702a5f",
   "metadata": {},
   "outputs": [],
   "source": [
    "freq_exp_single_photon_shifted_trunc = np.zeros(n_sample_trunc,dtype=complex)\n",
    "exp_min_bin = int(filter_2_min_freq/sampling_rate*n_sample_trunc)\n",
    "frequency_shift = sampling_rate/int(sampling_rate/frequency_offset)\n",
    "exp_single_photon = np.zeros(n_sample,dtype=complex)\n",
    "if run_simulation:\n",
    "    for parameter_index in range(n_parameters):\n",
    "        #Estimation of the time-of-arrival distribution\n",
    "        n_monte_carlo = int(parameter_table[parameter_index])\n",
    "        exp_histogram = time_of_arrival_histogram(np.sqrt(single_photon_detector_efficiency)*filtered_single_photon_trunc,n_monte_carlo,dark_count_rate,sampling_rate,jitter_time)\n",
    "        exp_probability = exp_histogram/np.sum(exp_histogram)\n",
    "\n",
    "        #Kramers-Kronig detection DSP\n",
    "        log_probability = np.log(exp_probability)\n",
    "        exp_phase=np.real(hilbert_transform(log_probability/2))\n",
    "        exp_filtered_single_photon_trunc = np.sqrt(exp_probability)*np.exp(1j*exp_phase)\n",
    "\n",
    "        #Filtering to recover to original wavefunction\n",
    "        freq_exp_single_photon_shifted_trunc[exp_min_bin:int((n_sample-1)/2)] = np.fft.fft(exp_filtered_single_photon_trunc)[exp_min_bin:int((n_sample-1)/2)]\n",
    "        exp_single_photon_trunc = np.fft.ifft(freq_exp_single_photon_shifted_trunc)*np.exp(-1j*2*np.pi*frequency_shift*time_vector_trunc)\n",
    "        exp_single_photon_trunc = exp_single_photon_trunc/np.linalg.norm(exp_single_photon_trunc)\n",
    "\n",
    "        #Compute the fidelity\n",
    "        exp_single_photon[int(n_sample/2)-int(n_sample_trunc/2):int(n_sample/2)+int(n_sample_trunc/2)+1] = exp_single_photon_trunc\n",
    "        fidelity_tab[parameter_index] = np.abs(np.sum(np.multiply(np.conj(exp_single_photon),single_photon_wavefunction)))**2"
   ]
  },
  {
   "cell_type": "code",
   "execution_count": null,
   "id": "b3fb69a4-8874-43ff-a13a-050da74ac852",
   "metadata": {},
   "outputs": [],
   "source": [
    "if run_simulation:\n",
    "    plt.rcParams.update({\n",
    "        \"text.usetex\":True,\n",
    "        \"font.family\":\"rmfamily\",\n",
    "        \"font.size\":15,\n",
    "    })\n",
    "\n",
    "    plt.semilogx(parameter_table,fidelity_tab)\n",
    "    plt.xlabel(\"Number of measurements\")\n",
    "    plt.ylabel(\"Fidelity\")"
   ]
  },
  {
   "cell_type": "code",
   "execution_count": null,
   "id": "4b7f40a6-c661-4228-aceb-435c6059a624",
   "metadata": {},
   "outputs": [],
   "source": []
  }
 ],
 "metadata": {
  "kernelspec": {
   "display_name": "Python 3 (ipykernel)",
   "language": "python",
   "name": "python3"
  },
  "language_info": {
   "codemirror_mode": {
    "name": "ipython",
    "version": 3
   },
   "file_extension": ".py",
   "mimetype": "text/x-python",
   "name": "python",
   "nbconvert_exporter": "python",
   "pygments_lexer": "ipython3",
   "version": "3.12.3"
  }
 },
 "nbformat": 4,
 "nbformat_minor": 5
}
